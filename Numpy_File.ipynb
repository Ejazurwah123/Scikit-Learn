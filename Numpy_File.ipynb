{
 "cells": [
  {
   "cell_type": "code",
   "execution_count": 1,
   "id": "fe6e285e-4d3f-4dd2-b869-43066884a3de",
   "metadata": {},
   "outputs": [],
   "source": [
    "import numpy as np"
   ]
  },
  {
   "cell_type": "markdown",
   "id": "8f44c280-9a58-4fca-a5ef-c8a32c6cf2e5",
   "metadata": {},
   "source": [
    "# Datatypes and Attributes"
   ]
  },
  {
   "cell_type": "markdown",
   "id": "e8daa295-d38f-4401-a590-9406923b6d66",
   "metadata": {},
   "source": [
    "### Numpy's main data type is NDarray"
   ]
  },
  {
   "cell_type": "code",
   "execution_count": 3,
   "id": "77814dcb-06d0-4055-abae-9ada0f8b40a2",
   "metadata": {},
   "outputs": [],
   "source": [
    "a1 = np.array([1,3,2,4,5,6,7,8,9])"
   ]
  },
  {
   "cell_type": "code",
   "execution_count": 7,
   "id": "4ca7d4a7-d28f-4c43-b0d6-745902a17d9f",
   "metadata": {},
   "outputs": [
    {
     "data": {
      "text/plain": [
       "numpy.ndarray"
      ]
     },
     "execution_count": 7,
     "metadata": {},
     "output_type": "execute_result"
    }
   ],
   "source": [
    "type(a1)"
   ]
  },
  {
   "cell_type": "code",
   "execution_count": 8,
   "id": "862d8013-4bc4-4476-9ceb-99fa88876423",
   "metadata": {},
   "outputs": [
    {
     "data": {
      "text/plain": [
       "9"
      ]
     },
     "execution_count": 8,
     "metadata": {},
     "output_type": "execute_result"
    }
   ],
   "source": [
    "a1.size"
   ]
  },
  {
   "cell_type": "code",
   "execution_count": 13,
   "id": "c2fbafc1-31ac-4d7f-a3d1-6ac94a1e0eac",
   "metadata": {},
   "outputs": [],
   "source": [
    "a4 = np.ones((2,3), dtype=int)"
   ]
  },
  {
   "cell_type": "code",
   "execution_count": 15,
   "id": "166e4f36-5cb3-4df4-9cb7-ce5415febe1b",
   "metadata": {},
   "outputs": [
    {
     "data": {
      "text/plain": [
       "dtype('int64')"
      ]
     },
     "execution_count": 15,
     "metadata": {},
     "output_type": "execute_result"
    }
   ],
   "source": [
    "a4.dtype"
   ]
  },
  {
   "cell_type": "code",
   "execution_count": 16,
   "id": "72b0c376-b1a6-4f1d-9bb6-ed59ba0a32c7",
   "metadata": {},
   "outputs": [],
   "source": [
    "a5 = np.zeros((2,3),dtype=int)"
   ]
  },
  {
   "cell_type": "code",
   "execution_count": 17,
   "id": "743e21d2-07dd-48f3-950c-2f5710136eb3",
   "metadata": {},
   "outputs": [
    {
     "data": {
      "text/plain": [
       "array([[0, 0, 0],\n",
       "       [0, 0, 0]])"
      ]
     },
     "execution_count": 17,
     "metadata": {},
     "output_type": "execute_result"
    }
   ],
   "source": [
    "a5"
   ]
  },
  {
   "cell_type": "code",
   "execution_count": 22,
   "id": "8bb1257b-4faf-40d2-b5d9-2ba62ab2bcdb",
   "metadata": {},
   "outputs": [
    {
     "data": {
      "text/plain": [
       "array([1, 3, 5, 7, 9])"
      ]
     },
     "execution_count": 22,
     "metadata": {},
     "output_type": "execute_result"
    }
   ],
   "source": [
    "range_array = np.arange(1,10,2)\n",
    "range_array"
   ]
  },
  {
   "cell_type": "code",
   "execution_count": 30,
   "id": "9deee05b-dfc1-417f-af82-83b4d6e7c9bb",
   "metadata": {},
   "outputs": [],
   "source": [
    "random_array = np.random.randint(0,50,size=(2,3))"
   ]
  },
  {
   "cell_type": "code",
   "execution_count": 31,
   "id": "fc4ca7bd-4cdc-4111-b27c-0e59fa83f32f",
   "metadata": {},
   "outputs": [
    {
     "data": {
      "text/plain": [
       "array([[ 3, 27, 43],\n",
       "       [22, 40, 45]])"
      ]
     },
     "execution_count": 31,
     "metadata": {},
     "output_type": "execute_result"
    }
   ],
   "source": [
    "random_array"
   ]
  },
  {
   "cell_type": "code",
   "execution_count": 32,
   "id": "efef0c7d-3fec-4961-87f4-21f3dfe0a08c",
   "metadata": {},
   "outputs": [
    {
     "data": {
      "text/plain": [
       "array([0, 3, 4])"
      ]
     },
     "execution_count": 32,
     "metadata": {},
     "output_type": "execute_result"
    }
   ],
   "source": [
    "random_array[-2] // 3**2"
   ]
  },
  {
   "cell_type": "code",
   "execution_count": 33,
   "id": "5efe6437-64ff-4d9d-a01c-07e98f285784",
   "metadata": {},
   "outputs": [],
   "source": [
    "a99 = np.array([4,5,6,7,8,9,8,76,5,45,33,2])"
   ]
  },
  {
   "cell_type": "code",
   "execution_count": 34,
   "id": "8731e474-6c38-4689-9f7f-8c137b7ff4b6",
   "metadata": {},
   "outputs": [
    {
     "data": {
      "text/plain": [
       "(12,)"
      ]
     },
     "execution_count": 34,
     "metadata": {},
     "output_type": "execute_result"
    }
   ],
   "source": [
    "a99.shape"
   ]
  },
  {
   "cell_type": "code",
   "execution_count": 41,
   "id": "2e478672-5c73-4c92-8419-1750395f371d",
   "metadata": {},
   "outputs": [],
   "source": [
    "a99 = a99.reshape((2,6))"
   ]
  },
  {
   "cell_type": "code",
   "execution_count": 47,
   "id": "b89f1fc9-d4d7-45c6-b326-12b7a39f9ccc",
   "metadata": {},
   "outputs": [
    {
     "data": {
      "text/plain": [
       "array([[ 4,  8],\n",
       "       [ 5, 76],\n",
       "       [ 6,  5],\n",
       "       [ 7, 45],\n",
       "       [ 8, 33],\n",
       "       [ 9,  2]])"
      ]
     },
     "execution_count": 47,
     "metadata": {},
     "output_type": "execute_result"
    }
   ],
   "source": [
    "a99.T"
   ]
  },
  {
   "cell_type": "code",
   "execution_count": null,
   "id": "9d154678-b4f7-4beb-9121-7f916ea6dae9",
   "metadata": {},
   "outputs": [],
   "source": []
  }
 ],
 "metadata": {
  "kernelspec": {
   "display_name": "Python 3 (ipykernel)",
   "language": "python",
   "name": "python3"
  },
  "language_info": {
   "codemirror_mode": {
    "name": "ipython",
    "version": 3
   },
   "file_extension": ".py",
   "mimetype": "text/x-python",
   "name": "python",
   "nbconvert_exporter": "python",
   "pygments_lexer": "ipython3",
   "version": "3.12.4"
  }
 },
 "nbformat": 4,
 "nbformat_minor": 5
}
